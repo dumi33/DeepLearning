{
 "cells": [
  {
   "cell_type": "code",
   "execution_count": 1,
   "id": "286a371e",
   "metadata": {},
   "outputs": [],
   "source": [
    "import numpy as np"
   ]
  },
  {
   "cell_type": "code",
   "execution_count": 2,
   "id": "648d19bc",
   "metadata": {},
   "outputs": [],
   "source": [
    "x = [2,4,6,8]\n",
    "y = [81,93,91,97]"
   ]
  },
  {
   "cell_type": "code",
   "execution_count": 3,
   "id": "e69e8c22",
   "metadata": {},
   "outputs": [],
   "source": [
    "mx = np.mean(x)\n",
    "my = np.mean(y)"
   ]
  },
  {
   "cell_type": "code",
   "execution_count": 4,
   "id": "81b4a43d",
   "metadata": {},
   "outputs": [
    {
     "name": "stdout",
     "output_type": "stream",
     "text": [
      "x의 평균값 5.0\n",
      "y의 평균값 90.5\n"
     ]
    }
   ],
   "source": [
    "print('x의 평균값', mx)\n",
    "print('y의 평균값',my)"
   ]
  },
  {
   "cell_type": "code",
   "execution_count": 5,
   "id": "3f51cb5d",
   "metadata": {},
   "outputs": [],
   "source": [
    "divisor = sum([(i-mx)**2 for i in x])"
   ]
  },
  {
   "cell_type": "code",
   "execution_count": 6,
   "id": "09085173",
   "metadata": {},
   "outputs": [],
   "source": [
    "def top(x,mx,y,my) :\n",
    "    d = 0\n",
    "    for i in range(len(x)) :\n",
    "        d += (x[i]-mx)*(y[i]-my)\n",
    "    return d"
   ]
  },
  {
   "cell_type": "code",
   "execution_count": 7,
   "id": "636ac902",
   "metadata": {},
   "outputs": [],
   "source": [
    "dividend = top(x,mx,y,my)"
   ]
  },
  {
   "cell_type": "code",
   "execution_count": 11,
   "id": "ee5aedb2",
   "metadata": {},
   "outputs": [
    {
     "name": "stdout",
     "output_type": "stream",
     "text": [
      "분모 :  20.0\n",
      "분자 :  46.0\n"
     ]
    }
   ],
   "source": [
    "print(\"분모 : \", divisor)\n",
    "print(\"분자 : \", dividend)"
   ]
  },
  {
   "cell_type": "code",
   "execution_count": 12,
   "id": "ab477128",
   "metadata": {},
   "outputs": [],
   "source": [
    "a = dividend / divisor\n",
    "b = my - a*mx"
   ]
  },
  {
   "cell_type": "code",
   "execution_count": 14,
   "id": "47559309",
   "metadata": {},
   "outputs": [
    {
     "name": "stdout",
     "output_type": "stream",
     "text": [
      "기울기 a =  2.3\n",
      "y절편 b =  79.0\n"
     ]
    }
   ],
   "source": [
    "print(\"기울기 a = \",a)\n",
    "print(\"y절편 b = \",b)"
   ]
  },
  {
   "cell_type": "code",
   "execution_count": null,
   "id": "a0b8e6f7",
   "metadata": {},
   "outputs": [],
   "source": []
  }
 ],
 "metadata": {
  "kernelspec": {
   "display_name": "Python 3 (ipykernel)",
   "language": "python",
   "name": "python3"
  },
  "language_info": {
   "codemirror_mode": {
    "name": "ipython",
    "version": 3
   },
   "file_extension": ".py",
   "mimetype": "text/x-python",
   "name": "python",
   "nbconvert_exporter": "python",
   "pygments_lexer": "ipython3",
   "version": "3.9.7"
  }
 },
 "nbformat": 4,
 "nbformat_minor": 5
}
